{
 "cells": [
  {
   "cell_type": "code",
   "execution_count": 1,
   "metadata": {},
   "outputs": [
    {
     "data": {
      "text/plain": [
       "'/Users/laurenskoetsier/Documents/projecten/1.3 Huygens'"
      ]
     },
     "execution_count": 1,
     "metadata": {},
     "output_type": "execute_result"
    }
   ],
   "source": [
    "import os \n",
    "os.getcwd()                "
   ]
  },
  {
   "cell_type": "code",
   "execution_count": 2,
   "metadata": {},
   "outputs": [],
   "source": [
    "\n",
    "os.chdir(\"/Users/laurenskoetsier/Desktop/\")"
   ]
  },
  {
   "cell_type": "code",
   "execution_count": 3,
   "metadata": {},
   "outputs": [
    {
     "data": {
      "text/html": [
       "<div>\n",
       "<style scoped>\n",
       "    .dataframe tbody tr th:only-of-type {\n",
       "        vertical-align: middle;\n",
       "    }\n",
       "\n",
       "    .dataframe tbody tr th {\n",
       "        vertical-align: top;\n",
       "    }\n",
       "\n",
       "    .dataframe thead th {\n",
       "        text-align: right;\n",
       "    }\n",
       "</style>\n",
       "<table border=\"1\" class=\"dataframe\">\n",
       "  <thead>\n",
       "    <tr style=\"text-align: right;\">\n",
       "      <th></th>\n",
       "      <th>x  (stoel)</th>\n",
       "      <th>y (rij)</th>\n",
       "      <th>nagalm</th>\n",
       "    </tr>\n",
       "  </thead>\n",
       "  <tbody>\n",
       "    <tr>\n",
       "      <th>0</th>\n",
       "      <td>0.67</td>\n",
       "      <td>0.26</td>\n",
       "      <td>0.634667</td>\n",
       "    </tr>\n",
       "    <tr>\n",
       "      <th>1</th>\n",
       "      <td>2.74</td>\n",
       "      <td>0.26</td>\n",
       "      <td>0.642667</td>\n",
       "    </tr>\n",
       "    <tr>\n",
       "      <th>2</th>\n",
       "      <td>4.80</td>\n",
       "      <td>0.26</td>\n",
       "      <td>0.719667</td>\n",
       "    </tr>\n",
       "    <tr>\n",
       "      <th>3</th>\n",
       "      <td>6.84</td>\n",
       "      <td>0.26</td>\n",
       "      <td>0.812667</td>\n",
       "    </tr>\n",
       "    <tr>\n",
       "      <th>4</th>\n",
       "      <td>0.67</td>\n",
       "      <td>2.02</td>\n",
       "      <td>0.696667</td>\n",
       "    </tr>\n",
       "  </tbody>\n",
       "</table>\n",
       "</div>"
      ],
      "text/plain": [
       "   x  (stoel)  y (rij)    nagalm\n",
       "0        0.67     0.26  0.634667\n",
       "1        2.74     0.26  0.642667\n",
       "2        4.80     0.26  0.719667\n",
       "3        6.84     0.26  0.812667\n",
       "4        0.67     2.02  0.696667"
      ]
     },
     "execution_count": 3,
     "metadata": {},
     "output_type": "execute_result"
    }
   ],
   "source": [
    "import pandas as pd\n",
    "import matplotlib.pyplot as plt\n",
    "import seaborn\n",
    "\n",
    "cs_df = pd.read_csv('Map(speaker links voor).csv')\n",
    "cs_df.head()"
   ]
  },
  {
   "cell_type": "code",
   "execution_count": 4,
   "metadata": {},
   "outputs": [
    {
     "data": {
      "text/plain": [
       "(20, 3)"
      ]
     },
     "execution_count": 4,
     "metadata": {},
     "output_type": "execute_result"
    }
   ],
   "source": [
    "cs_df.shape"
   ]
  },
  {
   "cell_type": "code",
   "execution_count": 5,
   "metadata": {},
   "outputs": [
    {
     "data": {
      "text/plain": [
       "Index(['x  (stoel)', 'y (rij)', 'nagalm'], dtype='object')"
      ]
     },
     "execution_count": 5,
     "metadata": {},
     "output_type": "execute_result"
    }
   ],
   "source": [
    "cs_df.columns"
   ]
  },
  {
   "cell_type": "code",
   "execution_count": 6,
   "metadata": {},
   "outputs": [
    {
     "data": {
      "text/html": [
       "<div>\n",
       "<style scoped>\n",
       "    .dataframe tbody tr th:only-of-type {\n",
       "        vertical-align: middle;\n",
       "    }\n",
       "\n",
       "    .dataframe tbody tr th {\n",
       "        vertical-align: top;\n",
       "    }\n",
       "\n",
       "    .dataframe thead th {\n",
       "        text-align: right;\n",
       "    }\n",
       "</style>\n",
       "<table border=\"1\" class=\"dataframe\">\n",
       "  <thead>\n",
       "    <tr style=\"text-align: right;\">\n",
       "      <th>y (rij)</th>\n",
       "      <th>0.26</th>\n",
       "      <th>2.02</th>\n",
       "      <th>3.82</th>\n",
       "      <th>5.59</th>\n",
       "      <th>7.89</th>\n",
       "    </tr>\n",
       "    <tr>\n",
       "      <th>x  (stoel)</th>\n",
       "      <th></th>\n",
       "      <th></th>\n",
       "      <th></th>\n",
       "      <th></th>\n",
       "      <th></th>\n",
       "    </tr>\n",
       "  </thead>\n",
       "  <tbody>\n",
       "    <tr>\n",
       "      <th>0.67</th>\n",
       "      <td>0.634667</td>\n",
       "      <td>0.696667</td>\n",
       "      <td>0.625333</td>\n",
       "      <td>0.704667</td>\n",
       "      <td>0.688667</td>\n",
       "    </tr>\n",
       "    <tr>\n",
       "      <th>2.74</th>\n",
       "      <td>0.642667</td>\n",
       "      <td>0.595667</td>\n",
       "      <td>0.688667</td>\n",
       "      <td>0.665667</td>\n",
       "      <td>0.882333</td>\n",
       "    </tr>\n",
       "    <tr>\n",
       "      <th>4.80</th>\n",
       "      <td>0.719667</td>\n",
       "      <td>0.727333</td>\n",
       "      <td>0.712000</td>\n",
       "      <td>0.797000</td>\n",
       "      <td>0.698333</td>\n",
       "    </tr>\n",
       "    <tr>\n",
       "      <th>6.84</th>\n",
       "      <td>0.812667</td>\n",
       "      <td>0.658000</td>\n",
       "      <td>0.611667</td>\n",
       "      <td>0.696670</td>\n",
       "      <td>1.060330</td>\n",
       "    </tr>\n",
       "  </tbody>\n",
       "</table>\n",
       "</div>"
      ],
      "text/plain": [
       "y (rij)         0.26      2.02      3.82      5.59      7.89\n",
       "x  (stoel)                                                  \n",
       "0.67        0.634667  0.696667  0.625333  0.704667  0.688667\n",
       "2.74        0.642667  0.595667  0.688667  0.665667  0.882333\n",
       "4.80        0.719667  0.727333  0.712000  0.797000  0.698333\n",
       "6.84        0.812667  0.658000  0.611667  0.696670  1.060330"
      ]
     },
     "execution_count": 6,
     "metadata": {},
     "output_type": "execute_result"
    }
   ],
   "source": [
    "pivot_df = cs_df.pivot(index='x  (stoel)', columns='y (rij)', values='nagalm')\n",
    "pivot_df.head()\n"
   ]
  },
  {
   "cell_type": "code",
   "execution_count": 7,
   "metadata": {},
   "outputs": [
    {
     "data": {
      "text/plain": [
       "<Axes: title={'center': 'speaker positie links voor'}, xlabel='x  (stoel)', ylabel='y (rij)'>"
      ]
     },
     "execution_count": 7,
     "metadata": {},
     "output_type": "execute_result"
    },
    {
     "data": {
      "image/png": "[encoded data removed]",
      "text/plain": [
       "<Figure size 900x900 with 2 Axes>"
      ]
     },
     "metadata": {},
     "output_type": "display_data"
    }
   ],
   "source": [
    "plt.figure(figsize=(9, 9))\n",
    "pivot_table = cs_df.pivot(index= 'y (rij)', columns= 'x  (stoel)', values='nagalm')\n",
    "\n",
    "Labels_x = ['13','9','5','1']\n",
    "Labels_y = ['1','3','5','7','9']\n",
    "plt.xlabel('x (stoelen)', size=15)\n",
    "plt.ylabel('y (rijen)', size=15)\n",
    "plt.title('speaker positie links voor')\n",
    "\n",
    "seaborn.heatmap(pivot_table, annot=True, fmt=\".2f\", linewidths=0, square=True, cmap='Reds', xticklabels=Labels_x, yticklabels=Labels_y)\n"
   ]
  },
  {
   "cell_type": "code",
   "execution_count": null,
   "metadata": {},
   "outputs": [],
   "source": []
  }
 ],
 "metadata": {
  "kernelspec": {
   "display_name": "Python 3",
   "language": "python",
   "name": "python3"
  },
  "language_info": {
   "codemirror_mode": {
    "name": "ipython",
    "version": 3
   },
   "file_extension": ".py",
   "mimetype": "text/x-python",
   "name": "python",
   "nbconvert_exporter": "python",
   "pygments_lexer": "ipython3",
   "version": "3.12.0"
  }
 },
 "nbformat": 4,
 "nbformat_minor": 2
}
